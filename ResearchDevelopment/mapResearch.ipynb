{
 "cells": [
  {
   "cell_type": "code",
   "execution_count": null,
   "id": "df108ddc77b9604c",
   "metadata": {
    "ExecuteTime": {
     "end_time": "2023-12-15T18:24:52.243796Z",
     "start_time": "2023-12-15T18:21:21.773150Z"
    },
    "collapsed": false
   },
   "outputs": [],
   "source": [
    "import osmnx as ox  #1.2.2\n",
    "\n",
    "center_point = (41.0824261, 29.0114145)\n",
    "\n",
    "G = ox.graph_from_point(center_point, dist=30000, network_type=\"all\")\n",
    "G = ox.add_edge_speeds(G)\n",
    "G = ox.add_edge_travel_times(G)\n",
    "\n",
    "# Plot the graph\n",
    "fig, ax = ox.plot_graph(G, bgcolor=\"black\", node_size=3, node_color=\"white\", figsize=(16, 8))"
   ]
  },
  {
   "cell_type": "code",
   "execution_count": null,
   "id": "d6c8b1ff55fc741e",
   "metadata": {
    "ExecuteTime": {
     "end_time": "2023-12-11T21:50:18.427705600Z",
     "start_time": "2023-12-11T21:49:46.466682600Z"
    },
    "collapsed": false
   },
   "outputs": [],
   "source": [
    "# Splitting graph to nodes and edges\n",
    "nodes_gdf, edges_gdf = ox.graph_to_gdfs(G, nodes=True, edges=True)\n",
    "\n",
    "# Adding osmid column to nodes\n",
    "nodes_gdf['osmid'] = G.nodes.keys()\n",
    "\n",
    "# Adding start and end nodes to edges\n",
    "start_nodes = []\n",
    "end_nodes = []\n",
    "\n",
    "for u, v, data in G.edges(data=True):\n",
    "    start_nodes.append(u)\n",
    "    end_nodes.append(v)\n",
    "\n",
    "edges_gdf['start_node'] = start_nodes\n",
    "edges_gdf['end_node'] = end_nodes\n",
    "\n",
    "# Saving nodes and edges to csv\n",
    "nodes_gdf.to_csv('nodes.csv', index=False)\n",
    "edges_gdf.to_csv('edges.csv', index=False)"
   ]
  },
  {
   "cell_type": "code",
   "execution_count": null,
   "id": "cfe0e9486444c927",
   "metadata": {
    "ExecuteTime": {
     "end_time": "2023-12-16T17:17:22.218630100Z",
     "start_time": "2023-12-16T17:17:20.510531400Z"
    },
    "collapsed": false
   },
   "outputs": [],
   "source": [
    "import pandas as pd\n",
    "import networkx as nx\n",
    "\n",
    "traffic_collision = pd.read_csv('data/traffic_collisions.csv')\n",
    "edges = pd.read_csv('edges.csv')\n",
    "\n",
    "edges['traffic_collisions_number'] = [0] * 419616\n",
    "\n",
    "def get_collisions_along_edge(u, v, accidents_data):\n",
    "    # Extract the coordinates of the nodes u and v\n",
    "    node_u_coords = (G.nodes[u]['y'], G.nodes[u]['x'])\n",
    "    node_v_coords = (G.nodes[v]['y'], G.nodes[v]['x'])\n",
    "\n",
    "    # Create a LineString representing the edge (u, v)\n",
    "    edge_line = LineString([node_u_coords, node_v_coords])\n",
    "\n",
    "    # Convert your accidents_data to a GeoDataFrame with Point geometries\n",
    "    accidents_geo = gpd.GeoDataFrame(\n",
    "        accidents_data,\n",
    "        geometry=gpd.points_from_xy(accidents_data['latitude'], accidents_data['longitude'])\n",
    "    )\n",
    "    \n",
    "    tolerance = 0.001\n",
    "    # Spatial join to associate each collision with the nearest edge\n",
    "    collisions_on_edge = accidents_geo[accidents_geo.geometry.distance(edge_line) < tolerance].shape[0]\n",
    "\n",
    "    return collisions_on_edge\n",
    "\n",
    "# Adding traffic_collisions_number to edges\n",
    "for (u, v, data) in G.edges(data=True):\n",
    "        collisions_on_edge = get_collisions_along_edge(u, v, traffic_collision)\n",
    "        edges.loc[i, 'traffic_collisions_number'] = collisions_on_edge\n",
    "        \n",
    "edges.to_csv('edges.csv', index=False)"
   ]
  },
  {
   "cell_type": "code",
   "execution_count": null,
   "id": "dfcf70e374e681e0",
   "metadata": {
    "ExecuteTime": {
     "end_time": "2023-12-16T17:17:22.231631100Z",
     "start_time": "2023-12-16T17:17:22.222635400Z"
    },
    "collapsed": false
   },
   "outputs": [],
   "source": [
    "import pandas as pd\n",
    "\n",
    "hospitals = pd.read_csv('data/hospitals.csv')\n",
    "\n",
    "# Finding nearest node for every hospital\n",
    "for i in range(len(hospitals)):\n",
    "    hospital_coordinates = (hospitals.loc[i, 'longitude'], hospitals.loc[i, 'latitude'])\n",
    "    nearest_node = ox.distance.nearest_nodes(G, hospital_coordinates[0], hospital_coordinates[1])\n",
    "    hospitals.loc[i, 'nearest_node'] = int(nearest_node)\n",
    "\n",
    "hospitals.to_csv('data/hospitals.csv', index=False)"
   ]
  },
  {
   "cell_type": "code",
   "execution_count": null,
   "id": "48ffa3ab55cd96ff",
   "metadata": {
    "ExecuteTime": {
     "start_time": "2023-12-16T17:17:22.224633500Z"
    },
    "collapsed": false
   },
   "outputs": [],
   "source": [
    "import pandas as pd\n",
    "\n",
    "nodes = pd.read_csv('nodes.csv')\n",
    "edges = pd.read_csv('edges.csv')\n",
    "\n",
    "for i in range(len(edges)):\n",
    "    start_node = nodes[nodes['osmid'] == edges.loc[i, 'start_node']]\n",
    "    end_node = nodes[nodes['osmid'] == edges.loc[i, 'end_node']]\n",
    "\n",
    "    edges.loc[i, 'start_node_latitude'] = start_node['y'].values[0] if not start_node.empty else None\n",
    "    edges.loc[i, 'start_node_longitude'] = start_node['x'].values[0] if not start_node.empty else None\n",
    "\n",
    "    edges.loc[i, 'end_node_latitude'] = end_node['y'].values[0] if not end_node.empty else None\n",
    "    edges.loc[i, 'end_node_longitude'] = end_node['x'].values[0] if not end_node.empty else None\n",
    "\n",
    "edges.to_csv('edges.csv', index=False)\n"
   ]
  },
  {
   "cell_type": "code",
   "execution_count": null,
   "id": "dd70bb4d8c529f71",
   "metadata": {
    "ExecuteTime": {
     "end_time": "2023-12-16T17:17:52.908559700Z",
     "start_time": "2023-12-16T17:17:51.293096Z"
    },
    "collapsed": false
   },
   "outputs": [],
   "source": [
    "from shapely.geometry import LineString, Point\n",
    "import geopandas as gpd\n",
    "import pandas as pd\n",
    "\n",
    "hospitals = pd.read_csv('data/hospitals.csv')\n",
    "edges = pd.read_csv('edges.csv')\n",
    "\n",
    "\n",
    "# Calculating min distance to hospital for every edge\n",
    "for k in range(len(edges)):\n",
    "    print(k)\n",
    "    min_distance = 999999 \n",
    "\n",
    "    for i in range(len(hospitals)):\n",
    "        hospital_coords = (hospitals.loc[i, 'latitude'], hospitals.loc[i, 'longitude'])  # Replace with actual coordinates\n",
    "        edge_geometry = LineString([(edges.loc[k, 'start_node_latitude'], edges.loc[k, 'start_node_longitude']), (edges.loc[k, 'end_node_latitude'], edges.loc[k, 'end_node_longitude'])])\n",
    "        node_point = Point(hospital_coords)\n",
    "        distance_to_edge = node_point.distance(edge_geometry)\n",
    "        if distance_to_edge < min_distance:\n",
    "            min_distance = distance_to_edge\n",
    "            edges.loc[k, 'distance_to_hospital'] = min_distance\n",
    "\n",
    "edges.to_csv('edges.csv', index=False)\n"
   ]
  },
  {
   "cell_type": "code",
   "execution_count": null,
   "id": "f1d385f903953f9",
   "metadata": {
    "ExecuteTime": {
     "end_time": "2023-12-15T10:52:03.210196700Z",
     "start_time": "2023-12-15T10:48:33.655924600Z"
    },
    "collapsed": false
   },
   "outputs": [],
   "source": [
    "import pandas as pd\n",
    "edges = pd.read_csv('edges.csv')\n",
    "\n",
    "traffic_collisions_number_max = max(edges['traffic_collisions_number'])\n",
    "distance_to_hospital_max = max(edges['distance_to_hospital'])\n",
    "\n",
    "# Normalizing data\n",
    "for i in range(len(edges)):\n",
    "    edges.loc[i, 'traffic_collisions_number'] = edges.loc[i, 'traffic_collisions_number'] / traffic_collisions_number_max\n",
    "    edges.loc[i, 'distance_to_hospital'] = edges.loc[i, 'distance_to_hospital'] / distance_to_hospital_max\n",
    "\n",
    "edges.to_csv('edges.csv', index=False)"
   ]
  },
  {
   "cell_type": "code",
   "execution_count": null,
   "id": "5e0582ab4d1e2262",
   "metadata": {
    "ExecuteTime": {
     "start_time": "2023-12-14T20:08:02.361607500Z"
    },
    "collapsed": false
   },
   "outputs": [],
   "source": [
    "import pandas as pd\n",
    "import networkx as nx\n",
    "\n",
    "# Read nodes and edges from CSV files\n",
    "nodes_df = pd.read_csv('nodes.csv')\n",
    "edges_df = pd.read_csv('edges.csv')\n",
    "\n",
    "# Create an empty graph\n",
    "G_imported = nx.Graph()\n",
    "\n",
    "# Add nodes to the graph\n",
    "for index, row in nodes_df.iterrows():\n",
    "    G_imported.add_node(\n",
    "        row['osmid'],\n",
    "        geometry=row['geometry'],\n",
    "        highway=row['highway'],\n",
    "        ref=row['ref'],\n",
    "        street_count=row['street_count'],\n",
    "        x=row['x'],\n",
    "        y=row['y'],\n",
    "    )  # Adjust attributes as needed\n",
    "\n",
    "for index, row in edges_df.iterrows():\n",
    "    G_imported.add_edge(\n",
    "        u_of_edge=row['start_node'],\n",
    "        v_of_edge=row['end_node'],\n",
    "        osmid=row['osmid'],\n",
    "        oneway=row['oneway'],\n",
    "        lanes=row['lanes'],\n",
    "        highway=row['highway'],\n",
    "        maxspeed=row['maxspeed'],\n",
    "        reversed=row['reversed'],\n",
    "        length=row['length'],\n",
    "        bridge=row['bridge'],\n",
    "        geometry=row['geometry'],\n",
    "        speed_kph=row['speed_kph'],\n",
    "        travel_time=row['travel_time'],\n",
    "        traffic_collisions_number=row['traffic_collisions_number'],\n",
    "        distance_to_hospital=row['distance_to_hospital'],\n",
    "    )\n",
    "\n",
    "G_imported.graph['crs'] = 'EPSG:4326'\n",
    "# Now G_imported is a networkx Graph with nodes and edges, including additional attributes\n"
   ]
  },
  {
   "cell_type": "code",
   "execution_count": null,
   "id": "f7575f35a12adb25",
   "metadata": {
    "ExecuteTime": {
     "end_time": "2023-12-15T11:26:33.441603Z",
     "start_time": "2023-12-15T11:26:27.412892900Z"
    },
    "collapsed": false
   },
   "outputs": [],
   "source": [
    "import pandas as pd\n",
    "edges = pd.read_csv('edges.csv')\n",
    "\n",
    "# Define weight for every edge\n",
    "edges['weight'] = [0] * 419616\n",
    "edges['weight'] = edges['traffic_collisions_number'] * 2 + edges['distance_to_hospital'] * 3\n",
    "edges.to_csv('edges.csv', index=False)"
   ]
  },
  {
   "cell_type": "code",
   "execution_count": null,
   "id": "28eddee6e1a2470d",
   "metadata": {
    "ExecuteTime": {
     "end_time": "2023-12-15T17:31:29.720356800Z",
     "start_time": "2023-12-15T17:31:29.574113400Z"
    },
    "collapsed": false
   },
   "outputs": [],
   "source": [
    "import folium\n",
    "shortest_path_nodes = nx.shortest_path(G, source=243882825, target=245014318,\n",
    "                                       method='dijkstra', weight='lenght')\n",
    "path_coordinates = [(G.nodes[node]['y'], G.nodes[node]['x']) for node in shortest_path_nodes]\n",
    "\n",
    "start_point = (41.026938, 28.9262909)\n",
    "end_point = (41.027648, 28.9317068)\n",
    "map_center = [start_point[0], start_point[1]]\n",
    "my_map = folium.Map(location=map_center, zoom_start=13)\n",
    "\n",
    "# Add a Polyline to the map using the path coordinates\n",
    "folium.PolyLine(\n",
    "    locations=path_coordinates,\n",
    "    color=\"blue\",\n",
    "    weight=5,\n",
    "    opacity=0.7,\n",
    ").add_to(my_map)\n",
    "\n",
    "# Add markers for start and end points\n",
    "folium.Marker(start_point, popup=\"Start Point\").add_to(my_map)\n",
    "folium.Marker(end_point, popup=\"End Point\").add_to(my_map)\n",
    "\n",
    "# Save the map to an HTML file or display it in Jupyter Notebook\n",
    "my_map.save(\"route_map.html\")"
   ]
  },
  {
   "cell_type": "code",
   "execution_count": null,
   "id": "3d27a9ada7dca0a3",
   "metadata": {
    "ExecuteTime": {
     "end_time": "2023-12-15T17:34:08.641462900Z",
     "start_time": "2023-12-15T17:33:37.132743800Z"
    },
    "collapsed": false
   },
   "outputs": [],
   "source": [
    "import pandas as pd\n",
    "\n",
    "nodes_df = pd.read_csv('nodes.csv')\n",
    "edges_df = pd.read_csv('edges.csv')\n",
    "\n",
    "# Create an empty graph\n",
    "G = nx.Graph()\n",
    "\n",
    "# Add nodes to the graph\n",
    "for index, row in nodes_df.iterrows():\n",
    "    G.add_node(\n",
    "        row['osmid'],\n",
    "        geometry=row['geometry'],\n",
    "        highway=row['highway'],\n",
    "        ref=row['ref'],\n",
    "        street_count=row['street_count'],\n",
    "        x=row['x'],\n",
    "        y=row['y'],\n",
    "    )  # Adjust attributes as needed\n",
    "\n",
    "for index, row in edges_df.iterrows():\n",
    "    G.add_edge(\n",
    "        u_of_edge=row['start_node'],\n",
    "        v_of_edge=row['end_node'],\n",
    "        osmid=row['osmid'],\n",
    "        oneway=row['oneway'],\n",
    "        lanes=row['lanes'],\n",
    "        highway=row['highway'],\n",
    "        maxspeed=row['maxspeed'],\n",
    "        reversed=row['reversed'],\n",
    "        length=row['length'],\n",
    "        bridge=row['bridge'],\n",
    "        geometry=row['geometry'],\n",
    "        speed_kph=row['speed_kph'],\n",
    "        travel_time=row['travel_time'],\n",
    "        traffic_collisions_number=row['traffic_collisions_number'],\n",
    "        distance_to_hospital=row['distance_to_hospital'],\n",
    "    )"
   ]
  },
  {
   "cell_type": "code",
   "execution_count": null,
   "id": "bfc48c697ef0b90a",
   "metadata": {
    "ExecuteTime": {
     "end_time": "2023-12-16T17:23:04.854564500Z",
     "start_time": "2023-12-16T17:23:04.143688200Z"
    },
    "collapsed": false
   },
   "outputs": [],
   "source": [
    "import folium\n",
    "\n",
    "# Define origin and destionation points\n",
    "start_point = (28.949284, 41.013821)\n",
    "end_point = (28.655473, 41.036035)\n",
    "\n",
    "# Finding nearest nodes for points\n",
    "start_node = ox.distance.nearest_nodes(G, start_point[0], start_point[1])\n",
    "end_node = ox.distance.nearest_nodes(G, end_point[0], end_point[1])\n",
    "\n",
    "# Find shortest path between two nodes\n",
    "shortest_path_nodes = nx.shortest_path(G, source=start_node, target=end_node,\n",
    "                                       method='dijkstra', weight='weight')\n",
    "\n",
    "# Convert nodes to coordinates\n",
    "path_coordinates = [(G.nodes[node]['y'], G.nodes[node]['x']) for node in shortest_path_nodes]\n",
    "\n",
    "# Plot path\n",
    "map_center = [start_point[0], start_point[1]]\n",
    "my_map = folium.Map(location=map_center, zoom_start=13)\n",
    "\n",
    "# Add a Polyline to the map using the path coordinates\n",
    "folium.PolyLine(\n",
    "    locations=path_coordinates,\n",
    "    color=\"blue\",\n",
    "    weight=5,\n",
    "    opacity=0.7,\n",
    ").add_to(my_map)\n",
    "\n",
    "# Add markers for start and end points\n",
    "folium.Marker(start_point, popup=\"Start Point\").add_to(my_map)\n",
    "folium.Marker(end_point, popup=\"End Point\").add_to(my_map)\n",
    "\n",
    "# Save the map to an HTML file or display it in Jupyter Notebook\n",
    "my_map.save(\"route_map.html\")"
   ]
  }
 ],
 "metadata": {
  "kernelspec": {
   "display_name": "Python 3",
   "language": "python",
   "name": "python3"
  },
  "language_info": {
   "codemirror_mode": {
    "name": "ipython",
    "version": 2
   },
   "file_extension": ".py",
   "mimetype": "text/x-python",
   "name": "python",
   "nbconvert_exporter": "python",
   "pygments_lexer": "ipython2",
   "version": "2.7.6"
  }
 },
 "nbformat": 4,
 "nbformat_minor": 5
}
